{
 "cells": [
  {
   "cell_type": "markdown",
   "metadata": {},
   "source": [
    "# <cite><font color=\"C32F23\">Manipulation de fichiers et traitement de données sous Python</font></cite>\n",
    "\n",
    "<div style=\"border:thin solid orange\">\n",
    "</div>\n",
    "\n",
    "Carnus - K. Boudjelaba\n",
    "\n",
    "Contact : <font size=\"4\"><a href=\"mailto:k.boudjelaba@carnus.fr\" class=\"button\"><span class=\"delete\">Mail</span></a></font>\n",
    "\n",
    "Lien utile : <font size=\"4\"><a href=\"https:www.carnus.fr\" class=\"button\"><span class=\"user\">Lycée Charles Carnus</span></a></font>\n",
    "   \n",
    "<img src=\"LOGO.jpg\"\n",
    "     alt=\"Markdown Monster icon\"\n",
    "     style=\"float: right; margin-right: 380px;\" \n",
    "     width=100cm  />\n",
    "\n",
    "<div style=\"border:thin solid orange\">\n",
    "</div>\n"
   ]
  },
  {
   "cell_type": "markdown",
   "metadata": {},
   "source": [
    "<div class=\"alert alert-block alert-info\">\n",
    "    \n",
    "### Table des matières :\n",
    "\n",
    "* <a href=\"#MF\">Manipulation de fichiers </a> <br>\n",
    "    * <a href=\"#FCSV\">Fichiers CSV </a> <br>\n",
    "        * <a href=\"#CEF\">Création et écriture d'un fichier CSV </a> <br>\n",
    "        * <a href=\"#ILF\">Importation et lecture d'un fichier CSV </a> <br>\n",
    "        * <a href=\"#EDRF\">Exploitation des données récupérées du fichier CSV </a> <br>\n",
    "    * <a href=\"#ILFT\">Importation et lecture d'un fichier texte (.txt) </a> <br>\n",
    "    * <a href=\"#EDFC\">Exploitation des données fournies par un capteur </a> <br>\n",
    "* <a href=\"#EX\">Exercices </a> <br>\n",
    "    * <a href=\"#EX1\">Exercice 1 </a> <br>\n",
    "    * <a href=\"#EX2\">Exercice 2 </a> <br>\n",
    "    * <a href=\"#EX3\">Exercice 3 </a> <br>\n",
    "</div>    \n",
    "---"
   ]
  },
  {
   "cell_type": "markdown",
   "metadata": {},
   "source": [
    "<a id=\"MF\"></a>\n",
    "## <cite><font color=\"C32F23\"> Manipulation de fichiers : </font></cite>\n",
    "\n",
    "<a id=\"FCSV\"></a>\n",
    "## <cite><font color=\"FBB903\"> Fichiers CSV : </font></cite>\n",
    "\n",
    "<div style=\"border:thin solid green\">\n",
    "</div>\n",
    "\n",
    "<a id=\"CEF\"></a>\n",
    "### Création et écriture d'un fichier CSV :\n",
    "\n",
    "<cite><font color=\"red\"> Exemple 1 : </font></cite>"
   ]
  },
  {
   "cell_type": "code",
   "execution_count": 1,
   "metadata": {},
   "outputs": [],
   "source": [
    "import csv # le module pour les fichiers csv\n",
    "\n",
    "en_tetes = ['Composant','Valeur','Unité','Courant','Tension']\n",
    "lignes = [('R', 1, 'kOhms', 0.02, 1.5),\n",
    "        ('C', 5, 'uF', 0.005, 0.55),\n",
    "        ('L', 2, 'mH', 0.001, 0.95),\n",
    "        ]\n",
    "with open('MonFichier.csv','w') as f:\n",
    "    f_csv = csv.writer(f)\n",
    "    f_csv.writerow(en_tetes)\n",
    "    f_csv.writerows(lignes)"
   ]
  },
  {
   "cell_type": "markdown",
   "metadata": {},
   "source": [
    "Le fichier csv créé doit ressembler au tableau suivant :\n",
    "\n",
    "| Composant | Valeur | Unité | Courant | Tension | \n",
    "|----------:|-------:|------:|--------:|--------:|  \n",
    "| R         |   1    | kOhms |  0.02   |  1.5    |\n",
    "| C         |   5    |  uf   |  0.005  |  0.55   |\n",
    "| L         |   2    |  mH   |  0.001  |  0.95   |"
   ]
  },
  {
   "cell_type": "markdown",
   "metadata": {},
   "source": [
    "<cite><font color=\"red\"> Exemple 2 : </font></cite>"
   ]
  },
  {
   "cell_type": "code",
   "execution_count": 2,
   "metadata": {},
   "outputs": [],
   "source": [
    "import csv\n",
    "\n",
    "def ecritureCSV(fichier, sep, colonne1, colonne2):\n",
    "    \"\"\"\n",
    "    fichier     <str> : Nom du fichier CSV à créer -> \"MonFichier2.csv\"\n",
    "    sep         <str> : Séparateur de colonnes -> \";\" pour notre cas\n",
    "    colonne1    <int> : Première colonne\n",
    "    colonne2    <int> : Deuxième colonne\n",
    "    \"\"\"\n",
    "    with open('MonFichier2.csv','w') as f2:\n",
    "        ecriture = csv.writer(f2, delimiter = sep)\n",
    "        taille1, taille2 = len(colonne1), len(colonne2)\n",
    "        if taille1 == taille2:\n",
    "            ecriture.writerow(['t', 'f'])\n",
    "            for i in range(taille1):\n",
    "                ecriture.writerow((colonne1[i], colonne2[i]))\n",
    "        else:\n",
    "            print(\"Les tailles des listes sont différentes\")\n",
    "        f2.close()\n",
    "    \n",
    "# Declaration des listes\n",
    "t = [0, 1, 2, 3, 4, 5]\n",
    "f = [0.1, 0.4, 0.6, 0.9, 0.7, 0.5]\n",
    "# Exécution de la fonction\n",
    "ecritureCSV(\"MonFichier2.csv\", \";\", t, f)"
   ]
  },
  {
   "cell_type": "markdown",
   "metadata": {},
   "source": [
    "Le fichier csv créé doit ressembler au tableau suivant :\n",
    "\n",
    "|  t  |  f  |\n",
    "|----:|----:|  \n",
    "|  0  | 0.1 |\n",
    "|  1  | 0.4 |\n",
    "|  2  | 0.6 |\n",
    "|  3  | 0.9 |\n",
    "|  4  | 0.7 |\n",
    "|  5  | 0.5 |"
   ]
  },
  {
   "cell_type": "markdown",
   "metadata": {},
   "source": [
    "<a id=\"ILF\"></a>\n",
    "### Importation et lecture d'un fichier CSV :\n",
    "\n",
    "Lectrure du fichier créé dans <cite><font color=\"red\"> Exemple 2 : </font></cite>"
   ]
  },
  {
   "cell_type": "code",
   "execution_count": 3,
   "metadata": {},
   "outputs": [
    {
     "name": "stdout",
     "output_type": "stream",
     "text": [
      "['t', 'f']\n",
      "['0', '0.1']\n",
      "['1', '0.4']\n",
      "['2', '0.6']\n",
      "['3', '0.9']\n",
      "['4', '0.7']\n",
      "['5', '0.5']\n"
     ]
    }
   ],
   "source": [
    "import csv\n",
    "file = open(\"MonFichier2.csv\",\"r\") # ouvrir le fichier\n",
    "reader = csv.reader(file, delimiter = \";\") # initialisation d’un lecteur de fichier\n",
    "for row in reader : # parcours du lecteur avec une boucle\n",
    "    print(row) # affichage ligne par ligne\n",
    "file.close() # fermeture du fichier"
   ]
  },
  {
   "cell_type": "markdown",
   "metadata": {},
   "source": [
    "Lecture du fichier créé dans <cite><font color=\"red\"> Exemple 1 : </font></cite>"
   ]
  },
  {
   "cell_type": "code",
   "execution_count": 4,
   "metadata": {},
   "outputs": [
    {
     "name": "stdout",
     "output_type": "stream",
     "text": [
      "['Composant', 'Valeur', 'Unité', 'Courant', 'Tension']\n",
      "['R', '1', 'kOhms', '0.02', '1.5']\n",
      "['C', '5', 'uF', '0.005', '0.55']\n",
      "['L', '2', 'mH', '0.001', '0.95']\n"
     ]
    }
   ],
   "source": [
    "import csv\n",
    "file = open(\"MonFichier.csv\",\"r\") # ouvrir le fichier\n",
    "reader = csv.reader(file, delimiter = \",\") # initialisation d’un lecteur de fichier\n",
    "for row in reader : # parcours du lecteur avec une boucle\n",
    "    print(row) # affichage ligne par ligne\n",
    "file.close() # fermeture du fichier"
   ]
  },
  {
   "cell_type": "markdown",
   "metadata": {},
   "source": [
    "<a id=\"EDRF\"></a>\n",
    "### Exploitation des données récupérées du fichier CSV :\n",
    "\n",
    "<p style='color:black; background-color:#FEE999; text-align:left'>\n",
    "Ces données sont destinées à être traitées et tracées avec Python, mais :<br>\n",
    "- On ramarque que chaque ligne du fichier CSV est placée dans une liste Python et que les valeurs d'une même grandeur (Tension par exemple) n'appartiennent pas à la même liste. <br>\n",
    "- On remarque également que toutes les valeurs sont considérées comme des chaînes de caractères. <br>\n",
    "Il est alors nécessaire d’écrire une fonction de lecture des fichiers CSV un peu plus évoluée afin de tenir compte des remarques précédentes. <br> \n",
    "</p>\n",
    "\n",
    "<cite><font color=\"red\"> Exemple 3 : </font></cite>"
   ]
  },
  {
   "cell_type": "code",
   "execution_count": 5,
   "metadata": {},
   "outputs": [
    {
     "name": "stdout",
     "output_type": "stream",
     "text": [
      "Courant =  [0.02, 0.005, 0.001]\n",
      "Tension =  [1.5, 0.55, 0.95]\n"
     ]
    }
   ],
   "source": [
    "import csv\n",
    "\n",
    "def lectureColCSV(fichier, sep, n) : \n",
    "    \"\"\" Pour les paramètres fichier et sep il faut les écrire entre les\n",
    "    guillements car la fonction attend des chaines de caractères.\n",
    "    fichier <str> : Le nom du fichier -> \"MonFichier.csv\"\n",
    "    sep     <str> : Le séparateur de colonnes -> \",\" pour notre cas\n",
    "    n       <int> : Le numéro de la colonne à lire\n",
    "    \"\"\"\n",
    "    file = open( fichier, \"r\")\n",
    "    reader = csv.reader(file, delimiter = sep)\n",
    "    col = []\n",
    "    for row in reader:\n",
    "        \"\"\"Dans notre cas le séparateur décimal est un \".\"\n",
    "        Cette boucle n'est pas nécessaire\n",
    "        Elle est nécessaire dans le cas où le séparateur\n",
    "        décimal est \",\" \"\"\"\n",
    "        try:\n",
    "            sep_decimal = row[n].replace(\",\", \".\")\n",
    "            col.append(float(sep_decimal))\n",
    "        except:\n",
    "            pass\n",
    "    file.close()\n",
    "    return col\n",
    "\n",
    "# On récupère les deux dernières colonnes (4ème et 5ème) du fichier\n",
    "# Rappel : Python commence l'indexation à O\n",
    "x = lectureColCSV(\"MonFichier.csv\", \",\", 3)\n",
    "y = lectureColCSV(\"MonFichier.csv\", \",\", 4)\n",
    "print(\"Courant = \", x)\n",
    "print(\"Tension = \", y)"
   ]
  },
  {
   "cell_type": "code",
   "execution_count": 6,
   "metadata": {},
   "outputs": [
    {
     "data": {
      "image/png": "[encoded data removed]",
      "text/plain": [
       "<Figure size 432x288 with 2 Axes>"
      ]
     },
     "metadata": {
      "needs_background": "light"
     },
     "output_type": "display_data"
    }
   ],
   "source": [
    "import matplotlib.pyplot as plt\n",
    "%matplotlib inline\n",
    "plt.subplot(1, 2, 1)\n",
    "plt.plot(x, '-', lw=2)\n",
    "\n",
    "plt.ylabel('[A]')\n",
    "plt.title('Courant')\n",
    "plt.grid(True)\n",
    "\n",
    "\n",
    "plt.subplot(1, 2, 2)\n",
    "plt.plot(y, '-', lw=2)\n",
    "\n",
    "plt.title('Tension')\n",
    "plt.ylabel('[V]')\n",
    "plt.grid(True)\n",
    "\n",
    "plt.tight_layout()\n",
    "plt.show()"
   ]
  },
  {
   "cell_type": "markdown",
   "metadata": {},
   "source": [
    "<a id=\"ILFT\"></a> \n",
    "## <cite><font color=\"#FBB903\"> Importation et lecture d'un fichier texte (.txt) : </font></cite>\n",
    "\n",
    "<div style=\"border:thin solid green\">\n",
    "</div>"
   ]
  },
  {
   "cell_type": "code",
   "execution_count": 7,
   "metadata": {
    "scrolled": true
   },
   "outputs": [
    {
     "name": "stdout",
     "output_type": "stream",
     "text": [
      "Contenu du fichier :\n",
      "time\tV(cap)\tV(source)\n",
      "0.000000000000000e+00\t0.000000e+00\t0.000000e+00\n",
      "9.142857087291697e-08\t3.759883e-05\t5.744954e-02\n",
      "1.828571417458339e-07\t1.353809e-04\t1.148896e-01\n",
      "2.742857126187509e-07\t2.933463e-04\t1.723202e-01\n",
      "3.657142834916679e-07\t5.114950e-04\t2.297414e-01\n",
      "4.571428543645849e-07\t7.898270e-04\t2.871531e-01\n",
      "5.485714252375018e-07\t1.128342e-03\t3.445553e-01\n",
      "6.399999961104186e-07\t1.527041e-03\t4.019481e-01\n",
      "1.128281246110419e-06\t4.350907e-03\t7.081597e-01\n",
      "1.616562496110419e-06\t8.523312e-03\t1.013732e+00\n",
      "2.104843746110419e-06\t1.416149e-02\t1.318350e+00\n",
      "2.593124996110419e-06\t2.125295e-02\t1.621728e+00\n",
      "3.081406246110419e-06\t2.978389e-02\t1.923579e+00\n",
      "3.569687496110419e-06\t3.973915e-02\t2.223619e+00\n",
      "4.057968746110418e-06\t5.110230e-02\t2.521567e+00\n",
      "4.546249996110419e-06\t6.385560e-02\t2.817142e+00\n",
      "5.034531246110419e-06\t7.798003e-02\t3.110065e+00\n",
      "5.522812496110420e-06\t9.345536e-02\t3.400062e+00\n",
      "6.011093746110420e-06\t1.102601e-01\t3.686858e+00\n",
      "6.499374996110420e-06\t1.283714e-01\t3.970184e+00\n",
      "6.987656246110421e-06\t1.477655e-01\t4.249774e+00\n",
      "7.475937496110421e-06\t1.684172e-01\t4.525364e+00\n",
      "7.964218746110422e-06\t1.903004e-01\t4.796695e+00\n",
      "8.452499996110422e-06\t2.133876e-01\t5.063511e+00\n",
      "9.429062496110423e-06\t2.630592e-01\t5.582600e+00\n",
      "1.040562499611042e-05\t3.171916e-01\t6.080678e+00\n",
      "1.138218749611042e-05\t3.755281e-01\t6.555869e+00\n",
      "1.284703124611043e-05\t4.703165e-01\t7.221857e+00\n",
      "1.431187499611043e-05\t5.729714e-01\t7.826711e+00\n",
      "1.549770088896757e-05\t6.626791e-01\t8.272472e+00\n",
      "1.668352678182472e-05\t7.547373e-01\t8.667678e+00\n",
      "1.786935267468186e-05\t8.491460e-01\t9.012329e+00\n",
      "1.905517856753900e-05\t9.459050e-01\t9.306425e+00\n",
      "2.024100446039615e-05\t1.045015e+00\t9.549965e+00\n",
      "2.142683035325329e-05\t1.146475e+00\t9.742951e+00\n",
      "2.261265624611043e-05\t1.250285e+00\t9.885382e+00\n",
      "2.407749999611044e-05\t1.379565e+00\t9.978336e+00\n",
      "2.554234374611044e-05\t1.504828e+00\t9.988672e+00\n",
      "2.700718749611044e-05\t1.626073e+00\t9.916390e+00\n",
      "2.847203124611044e-05\t1.743300e+00\t9.761489e+00\n",
      "2.993687499611044e-05\t1.856510e+00\t9.523971e+00\n",
      "3.140171874611045e-05\t1.965702e+00\t9.203833e+00\n",
      "3.286656249611044e-05\t2.070876e+00\t8.801078e+00\n",
      "3.405238838896759e-05\t2.149060e+00\t8.416816e+00\n",
      "3.523821428182473e-05\t2.220537e+00\t7.992398e+00\n",
      "3.642404017468188e-05\t2.285308e+00\t7.527823e+00\n",
      "3.760986606753902e-05\t2.343372e+00\t7.023092e+00\n",
      "3.879569196039616e-05\t2.394729e+00\t6.478203e+00\n",
      "3.998151785325330e-05\t2.439379e+00\t5.893158e+00\n",
      "4.116734374611045e-05\t2.477323e+00\t5.267957e+00\n",
      "4.263218749611045e-05\t2.512095e+00\t4.464695e+00\n",
      "4.409703124611045e-05\t2.534398e+00\t3.623639e+00\n",
      "4.507359374611045e-05\t2.542178e+00\t3.045443e+00\n",
      "4.556187499611045e-05\t2.543914e+00\t2.751909e+00\n",
      "4.605015624611045e-05\t2.544206e+00\t2.455785e+00\n",
      "4.653843749611045e-05\t2.543049e+00\t2.156636e+00\n",
      "4.702671874611045e-05\t2.540437e+00\t1.856169e+00\n",
      "4.751499999611045e-05\t2.536371e+00\t1.554383e+00\n",
      "4.800328124611045e-05\t2.530851e+00\t1.251277e+00\n",
      "4.849156249611045e-05\t2.523877e+00\t9.468526e-01\n",
      "4.897984374611045e-05\t2.515448e+00\t6.411089e-01\n",
      "4.946812499611046e-05\t2.505566e+00\t3.340461e-01\n",
      "5.093296874611046e-05\t2.467285e+00\t-5.857280e-01\n",
      "5.170026785325331e-05\t2.441956e+00\t-1.068764e+00\n",
      "5.246756696039617e-05\t2.413305e+00\t-1.546577e+00\n",
      "5.323486606753903e-05\t2.381332e+00\t-2.019166e+00\n",
      "5.400216517468189e-05\t2.346037e+00\t-2.486532e+00\n",
      "5.476946428182475e-05\t2.307421e+00\t-2.948674e+00\n",
      "5.553676338896760e-05\t2.265482e+00\t-3.405592e+00\n",
      "5.630406249611046e-05\t2.220222e+00\t-3.857287e+00\n",
      "5.755964285325332e-05\t2.138535e+00\t-4.582004e+00\n",
      "5.881522321039618e-05\t2.050430e+00\t-5.268255e+00\n",
      "6.007080356753903e-05\t1.955906e+00\t-5.916040e+00\n",
      "6.132638392468190e-05\t1.854964e+00\t-6.525357e+00\n",
      "6.258196428182475e-05\t1.747603e+00\t-7.096209e+00\n",
      "6.383754463896761e-05\t1.633825e+00\t-7.628594e+00\n",
      "6.509312499611046e-05\t1.513628e+00\t-8.122512e+00\n",
      "6.627895088896760e-05\t1.395999e+00\t-8.537846e+00\n",
      "6.746477678182475e-05\t1.276726e+00\t-8.901605e+00\n",
      "6.865060267468189e-05\t1.155806e+00\t-9.213790e+00\n",
      "6.983642856753904e-05\t1.033242e+00\t-9.474400e+00\n",
      "7.102225446039618e-05\t9.090319e-01\t-9.683436e+00\n",
      "7.220808035325333e-05\t7.831766e-01\t-9.840897e+00\n",
      "7.339390624611047e-05\t6.556759e-01\t-9.946784e+00\n",
      "7.416120535325333e-05\t5.740548e-01\t-9.983636e+00\n",
      "7.492850446039618e-05\t4.932913e-01\t-9.997367e+00\n",
      "7.569580356753905e-05\t4.133854e-01\t-9.987978e+00\n",
      "7.646310267468190e-05\t3.343371e-01\t-9.955467e+00\n",
      "7.723040178182476e-05\t2.561464e-01\t-9.899835e+00\n",
      "7.799770088896762e-05\t1.788133e-01\t-9.821082e+00\n",
      "7.876499999611047e-05\t1.023377e-01\t-9.719208e+00\n",
      "7.925328124611047e-05\t5.468396e-02\t-9.642760e+00\n",
      "7.974156249611048e-05\t7.656761e-03\t-9.557239e+00\n",
      "8.022984374611048e-05\t-3.870289e-02\t-9.462721e+00\n",
      "8.071812499611048e-05\t-8.435465e-02\t-9.359299e+00\n",
      "8.120640624611048e-05\t-1.292588e-01\t-9.247066e+00\n",
      "8.218296874611048e-05\t-2.166691e-01\t-8.996608e+00\n",
      "8.315953124611048e-05\t-3.006306e-01\t-8.712288e+00\n",
      "8.413609374611048e-05\t-3.808529e-01\t-8.395177e+00\n",
      "8.560093749611048e-05\t-4.935743e-01\t-7.860670e+00\n",
      "8.706578124611048e-05\t-5.963938e-01\t-7.259622e+00\n",
      "8.853062499611048e-05\t-6.885244e-01\t-6.597120e+00\n",
      "8.999546874611048e-05\t-7.692680e-01\t-5.878772e+00\n",
      "9.146031249611049e-05\t-8.380221e-01\t-5.110660e+00\n",
      "9.292515624611049e-05\t-8.942843e-01\t-4.299284e+00\n",
      "9.438999999611049e-05\t-9.376568e-01\t-3.451514e+00\n",
      "9.585484374611049e-05\t-9.678498e-01\t-2.574527e+00\n",
      "9.731968749611049e-05\t-9.846839e-01\t-1.675746e+00\n",
      "9.829624999611049e-05\t-9.884472e-01\t-1.068203e+00\n",
      "9.927281249611049e-05\t-9.862487e-01\t-4.566390e-01\n",
      "1.007376562461105e-04\t-9.718447e-01\t4.632081e-01\n",
      "1.022024999961105e-04\t-9.442942e-01\t1.379134e+00\n",
      "1.036673437461105e-04\t-9.039019e-01\t2.283386e+00\n",
      "1.051321874961105e-04\t-8.510804e-01\t3.168308e+00\n",
      "1.065970312461105e-04\t-7.863461e-01\t4.026410e+00\n",
      "1.080618749961105e-04\t-7.103156e-01\t4.850427e+00\n",
      "1.095267187461105e-04\t-6.237000e-01\t5.633385e+00\n",
      "1.109915624961105e-04\t-5.272989e-01\t6.368655e+00\n",
      "1.124564062461105e-04\t-4.219939e-01\t7.050014e+00\n",
      "1.139212499961105e-04\t-3.087410e-01\t7.671693e+00\n",
      "1.148978124961105e-04\t-2.293260e-01\t8.050369e+00\n",
      "1.158743749961105e-04\t-1.471493e-01\t8.398746e+00\n",
      "1.163626562461105e-04\t-1.051274e-01\t8.561157e+00\n",
      "1.168509374961105e-04\t-6.253866e-02\t8.715511e+00\n",
      "1.173392187461105e-04\t-1.942553e-02\t8.861663e+00\n",
      "\n"
     ]
    }
   ],
   "source": [
    "Fichier = open('LtPy.txt','r')      # instanciation de l'objet Fichier de la classe file\n",
    "# lecture dans le fichier avec la méthode read()\n",
    "chaine = Fichier.read()\n",
    "# affichage du contenu du fichier\n",
    "print('Contenu du fichier :\\n' + chaine)\n",
    "# fermeture du fichier avec la méthode close()\n",
    "Fichier.close()"
   ]
  },
  {
   "cell_type": "code",
   "execution_count": 8,
   "metadata": {},
   "outputs": [
    {
     "data": {
      "image/png": "[encoded data removed]",
      "text/plain": [
       "<Figure size 432x288 with 1 Axes>"
      ]
     },
     "metadata": {
      "needs_background": "light"
     },
     "output_type": "display_data"
    }
   ],
   "source": [
    "import matplotlib.pyplot as plt\n",
    "import numpy as np\n",
    "%matplotlib inline\n",
    "# Avec diese à l'entête (voir fichier créé)\n",
    "data = np.loadtxt(\"LtPy2.txt\")\n",
    "plt.plot(data[:,0],data[:,1],\"r-\")\n",
    "plt.plot(data[:,0],data[:,2],\"b-\")\n",
    "plt.show()"
   ]
  },
  {
   "cell_type": "code",
   "execution_count": 9,
   "metadata": {},
   "outputs": [
    {
     "data": {
      "image/png": "[encoded data removed]",
      "text/plain": [
       "<Figure size 432x288 with 1 Axes>"
      ]
     },
     "metadata": {
      "needs_background": "light"
     },
     "output_type": "display_data"
    }
   ],
   "source": [
    "import matplotlib.pyplot as plt\n",
    "import numpy as np\n",
    "%matplotlib inline\n",
    "# Sans diese à l'entête (voir fichier créé)\n",
    "f = open(\"LtPy.txt\" , 'r')\n",
    "f.readline() # lit la premiere ligne\n",
    "data = np.loadtxt(f)\n",
    "f.close()\n",
    "plt.plot(data[:,0],data[:,1],\"r-\")\n",
    "plt.plot(data[:,0],data[:,2],\"b-\")\n",
    "plt.show()"
   ]
  },
  {
   "cell_type": "markdown",
   "metadata": {},
   "source": [
    "<a id=\"EDFC\"></a>\n",
    "## <cite><font color=\"FBB903\"> Exploitation des données fournies par un capteur : </font></cite>\n",
    "\n",
    "<div style=\"border:thin solid green\">\n",
    "</div>\n",
    "\n",
    "Un programme arduino récupère les données d'un capteur sous la forme suivante :"
   ]
  },
  {
   "cell_type": "code",
   "execution_count": 10,
   "metadata": {},
   "outputs": [],
   "source": [
    "a1 = ['35\\r\\n','30\\r\\n','61\\r\\n','10\\r\\n','7\\r\\n','65\\r\\n','21\\r\\n','4\\r\\n','59\\r\\n']"
   ]
  },
  {
   "cell_type": "code",
   "execution_count": 11,
   "metadata": {},
   "outputs": [
    {
     "data": {
      "text/plain": [
       "list"
      ]
     },
     "execution_count": 11,
     "metadata": {},
     "output_type": "execute_result"
    }
   ],
   "source": [
    "type(a1)"
   ]
  },
  {
   "cell_type": "markdown",
   "metadata": {},
   "source": [
    "On note que c'est une liste de chaîne de caractères. On ne doit garder que les nombres entiers."
   ]
  },
  {
   "cell_type": "code",
   "execution_count": 12,
   "metadata": {},
   "outputs": [
    {
     "name": "stdout",
     "output_type": "stream",
     "text": [
      "35\n",
      "\n",
      "30\n",
      "\n",
      "61\n",
      "\n",
      "10\n",
      "\n",
      "7\n",
      "\n",
      "65\n",
      "\n",
      "21\n",
      "\n",
      "4\n",
      "\n",
      "59\n",
      "\n",
      "x= [35, 30, 61, 10, 7, 65, 21, 4, 59]\n"
     ]
    }
   ],
   "source": [
    "x = []\n",
    "for elt in a1: # elt va prendre les valeurs successives des éléments de ma_liste\n",
    "    x.append(int(elt))\n",
    "    print(elt)\n",
    "print('x=',x)"
   ]
  },
  {
   "cell_type": "code",
   "execution_count": 13,
   "metadata": {},
   "outputs": [
    {
     "data": {
      "image/png": "[encoded data removed]",
      "text/plain": [
       "<Figure size 432x288 with 1 Axes>"
      ]
     },
     "metadata": {
      "needs_background": "light"
     },
     "output_type": "display_data"
    }
   ],
   "source": [
    "plt.plot(x);"
   ]
  },
  {
   "cell_type": "code",
   "execution_count": 14,
   "metadata": {},
   "outputs": [],
   "source": [
    "a2 = '35\\r\\n','30\\r\\n','61\\r\\n','10\\r\\n','7\\r\\n','65\\r\\n','21\\r\\n','4\\r\\n','59\\r\\n'"
   ]
  },
  {
   "cell_type": "code",
   "execution_count": 15,
   "metadata": {},
   "outputs": [
    {
     "data": {
      "text/plain": [
       "list"
      ]
     },
     "execution_count": 15,
     "metadata": {},
     "output_type": "execute_result"
    }
   ],
   "source": [
    "type(a1)"
   ]
  },
  {
   "cell_type": "code",
   "execution_count": 16,
   "metadata": {},
   "outputs": [
    {
     "data": {
      "text/plain": [
       "tuple"
      ]
     },
     "execution_count": 16,
     "metadata": {},
     "output_type": "execute_result"
    }
   ],
   "source": [
    "type(a2)"
   ]
  },
  {
   "cell_type": "code",
   "execution_count": 17,
   "metadata": {},
   "outputs": [
    {
     "name": "stdout",
     "output_type": "stream",
     "text": [
      "['35', '30', '61', '10', '7', '65', '21', '4', '59']\n"
     ]
    }
   ],
   "source": [
    "a1 = ['35\\r\\n','30\\r\\n','61\\r\\n','10\\r\\n','7\\r\\n','65\\r\\n','21\\r\\n','4\\r\\n','59\\r\\n']\n",
    "a3 = str(a1)\n",
    "z1 = a3.replace('\"', '')\n",
    "z2 = z1.replace('\\\\r', '')\n",
    "z3 = z2.replace('\\\\n', '')\n",
    "print(z3)"
   ]
  },
  {
   "cell_type": "markdown",
   "metadata": {},
   "source": [
    "<div style=\"border:thin solid green\">\n",
    "</div>\n",
    "\n",
    "<a id=\"EX\"></a>\n",
    "## <cite><font color=\"C32F23\"> Exercices : </font></cite>\n",
    "\n",
    "---\n",
    "\n",
    "<a id=\"EX1\"></a>\n",
    "## <cite><font color=\"FBB903\"> Exercice 1 : </font></cite>\n",
    "\n",
    "- Ecrire un programme pour créer le tableau csv suivant :\n",
    "\n",
    "| Titre 1  | Titre 2  | Titre 3  |  \n",
    "|----------|----------|----------|  \n",
    "| Mot 1    |   0.1    |    4     |  \n",
    "| Mot 2    |   0.2    |    10    |  \n",
    "| Mot 3    |   0.3    |    5     | \n",
    "| Mot 4    |   0.6    |    7     |\n",
    "| Mot 5    |   0.8    |    8     |\n",
    "\n",
    "- Importer et lire le fichier créé, puis tracer la colonne \"Titre 3\" en focntion de la colonne \"Titre 2\"\n",
    "\n",
    "<cite><font color=\"red\"> Inscrire votre code dans la cellule ci-dessous : </font></cite>"
   ]
  },
  {
   "cell_type": "code",
   "execution_count": null,
   "metadata": {},
   "outputs": [],
   "source": []
  },
  {
   "cell_type": "markdown",
   "metadata": {},
   "source": [
    "---\n",
    "<a id=\"EX2\"></a>\n",
    "## <cite><font color=\"FBB903\"> Exercice 2 : </font></cite>\n",
    "\n",
    "- Ecrire un programme pour lire le fichier \"Donnees.csv\" fourni en pièce jointe\n",
    "- Afficher le contenu de ce fichier\n",
    "- Tracer dans la même figure \"G1\" en fonction de \"w\" et \"P1\" en focntion de \"w\" (utiliser \"subplot\")\n",
    "- Tracer dans la même figure \"G2\" en fonction de \"w\" et \"P2\" en focntion de \"w\"\n",
    "- Tracer dans la même figure \"G\" en fonction de \"w\" et \"P\" en focntion de \"w\"\n",
    "\n",
    "<cite><font color=\"red\"> Inscrire votre code dans la cellule ci-dessous : </font></cite>"
   ]
  },
  {
   "cell_type": "code",
   "execution_count": null,
   "metadata": {},
   "outputs": [],
   "source": []
  },
  {
   "cell_type": "markdown",
   "metadata": {},
   "source": [
    "---\n",
    "<a id=\"EX3\"></a>\n",
    "## <cite><font color=\"FBB903\"> Exercice 3 : </font></cite>\n",
    "\n",
    "- Ecrire un programme pour tracer la fonction suivante : $y(t)=2\\sin(\\omega t)$ avec $\\omega=10$ et $t\\in [0,1]$.\n",
    "- Enregistrer les valeurs de $t$ et de $y$ dans un même fichier csv.\n",
    "\n",
    "<cite><font color=\"red\"> Inscrire votre code dans la cellule ci-dessous : </font></cite>"
   ]
  },
  {
   "cell_type": "code",
   "execution_count": null,
   "metadata": {},
   "outputs": [],
   "source": []
  }
 ],
 "metadata": {
  "kernelspec": {
   "display_name": "Python 3",
   "language": "python",
   "name": "python3"
  },
  "language_info": {
   "codemirror_mode": {
    "name": "ipython",
    "version": 3
   },
   "file_extension": ".py",
   "mimetype": "text/x-python",
   "name": "python",
   "nbconvert_exporter": "python",
   "pygments_lexer": "ipython3",
   "version": "3.7.6"
  }
 },
 "nbformat": 4,
 "nbformat_minor": 4
}
